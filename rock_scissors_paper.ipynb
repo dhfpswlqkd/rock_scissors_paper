{
 "cells": [
  {
   "cell_type": "code",
   "execution_count": 1,
   "id": "fd066ec5",
   "metadata": {},
   "outputs": [
    {
     "name": "stdout",
     "output_type": "stream",
     "text": [
      "WARNING:tensorflow:From C:\\Users\\user\\anaconda3\\lib\\site-packages\\keras\\src\\losses.py:2976: The name tf.losses.sparse_softmax_cross_entropy is deprecated. Please use tf.compat.v1.losses.sparse_softmax_cross_entropy instead.\n",
      "\n"
     ]
    }
   ],
   "source": [
    "import tensorflow as tf\n",
    "from tensorflow.keras import layers, models\n",
    "from keras.callbacks import EarlyStopping"
   ]
  },
  {
   "cell_type": "code",
   "execution_count": 70,
   "id": "c64ae16b",
   "metadata": {
    "scrolled": true
   },
   "outputs": [
    {
     "name": "stdout",
     "output_type": "stream",
     "text": [
      "Model: \"sequential_3\"\n",
      "_________________________________________________________________\n",
      " Layer (type)                Output Shape              Param #   \n",
      "=================================================================\n",
      " conv2d_15 (Conv2D)          (None, 96, 96, 16)        448       \n",
      "                                                                 \n",
      " max_pooling2d_15 (MaxPooli  (None, 48, 48, 16)        0         \n",
      " ng2D)                                                           \n",
      "                                                                 \n",
      " dropout_15 (Dropout)        (None, 48, 48, 16)        0         \n",
      "                                                                 \n",
      " conv2d_16 (Conv2D)          (None, 48, 48, 32)        4640      \n",
      "                                                                 \n",
      " max_pooling2d_16 (MaxPooli  (None, 24, 24, 32)        0         \n",
      " ng2D)                                                           \n",
      "                                                                 \n",
      " dropout_16 (Dropout)        (None, 24, 24, 32)        0         \n",
      "                                                                 \n",
      " conv2d_17 (Conv2D)          (None, 24, 24, 64)        18496     \n",
      "                                                                 \n",
      " max_pooling2d_17 (MaxPooli  (None, 12, 12, 64)        0         \n",
      " ng2D)                                                           \n",
      "                                                                 \n",
      " dropout_17 (Dropout)        (None, 12, 12, 64)        0         \n",
      "                                                                 \n",
      " conv2d_18 (Conv2D)          (None, 12, 12, 64)        36928     \n",
      "                                                                 \n",
      " max_pooling2d_18 (MaxPooli  (None, 6, 6, 64)          0         \n",
      " ng2D)                                                           \n",
      "                                                                 \n",
      " dropout_18 (Dropout)        (None, 6, 6, 64)          0         \n",
      "                                                                 \n",
      " conv2d_19 (Conv2D)          (None, 6, 6, 64)          36928     \n",
      "                                                                 \n",
      " max_pooling2d_19 (MaxPooli  (None, 3, 3, 64)          0         \n",
      " ng2D)                                                           \n",
      "                                                                 \n",
      " dropout_19 (Dropout)        (None, 3, 3, 64)          0         \n",
      "                                                                 \n",
      " flatten_3 (Flatten)         (None, 576)               0         \n",
      "                                                                 \n",
      " dense_6 (Dense)             (None, 128)               73856     \n",
      "                                                                 \n",
      " dense_7 (Dense)             (None, 4)                 516       \n",
      "                                                                 \n",
      "=================================================================\n",
      "Total params: 171812 (671.14 KB)\n",
      "Trainable params: 171812 (671.14 KB)\n",
      "Non-trainable params: 0 (0.00 Byte)\n",
      "_________________________________________________________________\n"
     ]
    }
   ],
   "source": [
    "# 모델 아키택처 생성\n",
    "\n",
    "model = models.Sequential()\n",
    "model.add(layers.Conv2D(16, (3,3), padding='same', activation='relu6', input_shape=(96,96,3)))\n",
    "model.add(layers.MaxPooling2D(2,2))\n",
    "model.add(layers.Dropout(0.2))\n",
    "model.add(layers.Conv2D(32, (3,3), padding='same', activation='relu6'))\n",
    "model.add(layers.MaxPooling2D(2,2))\n",
    "model.add(layers.Dropout(0.2))\n",
    "model.add(layers.Conv2D(64, (3,3), padding='same', activation='relu6'))\n",
    "model.add(layers.MaxPooling2D(2,2))\n",
    "model.add(layers.Dropout(0.2))\n",
    "model.add(layers.Conv2D(64, (3,3), padding='same', activation='relu6'))\n",
    "model.add(layers.MaxPooling2D(2,2))\n",
    "model.add(layers.Dropout(0.2))\n",
    "model.add(layers.Conv2D(64, (3,3), padding='same', activation='relu6'))\n",
    "model.add(layers.MaxPooling2D(2,2))\n",
    "model.add(layers.Dropout(0.2))\n",
    "model.add(layers.Flatten())\n",
    "model.add(layers.Dense(128, activation='relu6'))\n",
    "model.add(layers.Dense(4, activation='softmax'))\n",
    "\n",
    "model.summary()\n",
    "\n",
    "# EarlyStopping 콜백 설정\n",
    "early_stopping = EarlyStopping(monitor='val_loss', patience=3, restore_best_weights=True)\n",
    "\n",
    "\n",
    "model.compile(optimizer='adam',\n",
    "              loss='categorical_crossentropy',\n",
    "              metrics=['accuracy'])"
   ]
  },
  {
   "cell_type": "code",
   "execution_count": 71,
   "id": "a4d020af",
   "metadata": {},
   "outputs": [],
   "source": [
    "def rotate_image(image, angle):\n",
    "    # 이미지 중앙 좌표 계산\n",
    "    height, width = image.shape[:2]\n",
    "    center = (width / 2, height / 2)\n",
    "\n",
    "    # 회전 변환 행렬 생성\n",
    "    rotation_matrix = cv2.getRotationMatrix2D(center, angle, 1.0)\n",
    "\n",
    "    # 이미지 회전\n",
    "    rotated_image = cv2.warpAffine(image, rotation_matrix, (width, height))\n",
    "\n",
    "    return rotated_image"
   ]
  },
  {
   "cell_type": "code",
   "execution_count": 72,
   "id": "9d5841a2",
   "metadata": {},
   "outputs": [
    {
     "name": "stdout",
     "output_type": "stream",
     "text": [
      "Data shape: (30592, 96, 96, 3)\n",
      "Labels: (30592, 4)\n",
      "[0 1 0 0]\n"
     ]
    },
    {
     "data": {
      "image/png": "[encoded data removed]",
      "text/plain": [
       "<Figure size 640x480 with 1 Axes>"
      ]
     },
     "metadata": {},
     "output_type": "display_data"
    }
   ],
   "source": [
    "# 학습 데이터 구축\n",
    "\n",
    "import cv2\n",
    "import numpy as np\n",
    "import os\n",
    "import matplotlib.pyplot as plt\n",
    "\n",
    "mask_path = \"hand_train\"\n",
    "\n",
    "data = []\n",
    "labels = []\n",
    "\n",
    "for dty in os.listdir(mask_path):\n",
    "    dty_path = os.path.join(mask_path, dty)\n",
    "    if dty == 'rock':\n",
    "        label = (1,0,0,0)\n",
    "    elif dty == \"scissors\":\n",
    "        label = (0,1,0,0)\n",
    "    elif dty == 'paper':\n",
    "        label = (0,0,1,0)\n",
    "    else:\n",
    "        label = (0,0,0,1)\n",
    "        \n",
    "    for dty2 in os.listdir(dty_path):\n",
    "        dty2_path = os.path.join(dty_path, dty2)\n",
    "    \n",
    "        if os.path.isdir(dty2_path):\n",
    "            for file in os.listdir(dty2_path):\n",
    "                file_path = os.path.join(dty2_path, file)\n",
    "\n",
    "                try:\n",
    "                    image = cv2.imread(file_path)\n",
    "                    if image is not None and image.size > 0:\n",
    "                        # 전처리 코드\n",
    "                        image = cv2.resize(image, (96,96))   \n",
    "                        image_hsv = cv2.cvtColor(image, cv2.COLOR_BGR2HSV) # BGR에서 HSV로 변환\n",
    "                        lower1 = np.array([3, 5, 30])\n",
    "                        upper1 = np.array([20, 150, 255])\n",
    "                        lower2 = np.array([160, 5, 30])\n",
    "                        upper2 = np.array([180, 150, 255])\n",
    "                        mask1 = cv2.inRange(image_hsv, lower1, upper1)\n",
    "                        mask2 = cv2.inRange(image_hsv, lower2, upper2)\n",
    "                        mask = mask1 + mask2\n",
    "                        image_bgr_masked = cv2.bitwise_and(image, image, mask=mask) # 이미지에 마스크를 적용\n",
    "                        image = cv2.cvtColor(image_bgr_masked, cv2.COLOR_BGR2RGB) # BGR에서 RGB로 변환\n",
    "\n",
    "                        # 전처리 종료\n",
    "                        data.append(image)\n",
    "                        labels.append(label)\n",
    "                        \n",
    "                        if dty != 'no':\n",
    "                            for i in range(7):\n",
    "                                angle = (i+1) * 45\n",
    "                                r_image = rotate_image(image, angle)\n",
    "  \n",
    "                                data.append(r_image)\n",
    "                                labels.append(label)\n",
    "                        \n",
    "                except Exception as e:\n",
    "                    print(flie_path)\n",
    "\n",
    "data = np.array(data)\n",
    "labels = np.array(labels)\n",
    "\n",
    "print(\"Data shape:\",data.shape)\n",
    "print(\"Labels:\",labels.shape)\n",
    "indices = np.arange(len(data))\n",
    "\n",
    "np.random.shuffle(indices)\n",
    "\n",
    "data = data[indices]\n",
    "labels = labels[indices]\n",
    "plt.imshow(data[0], cmap='gray')\n",
    "print(labels[0])"
   ]
  },
  {
   "cell_type": "code",
   "execution_count": 73,
   "id": "16310bff",
   "metadata": {},
   "outputs": [
    {
     "name": "stdout",
     "output_type": "stream",
     "text": [
      "(26000, 96, 96, 3)\n",
      "(2000, 96, 96, 3)\n",
      "(2592, 96, 96, 3)\n",
      "(26000, 4)\n",
      "(2000, 4)\n",
      "(2592, 4)\n"
     ]
    }
   ],
   "source": [
    "# train, valid, test 데이터 분리\n",
    "x_train = data.astype('float32') / 255.0\n",
    "#x_train = np.expand_dims(x_train, axis=-1)  # 배치 차원 추가\n",
    "\n",
    "x_test = x_train[28000:]\n",
    "y_test = labels[28000:]\n",
    "\n",
    "x_valid = x_train[26000:28000]\n",
    "y_valid = labels[26000:28000]\n",
    "\n",
    "x_train = x_train[:26000]\n",
    "y_train = labels[:26000]\n",
    "\n",
    "print(x_train.shape)\n",
    "print(x_valid.shape)\n",
    "print(x_test.shape)\n",
    "print(y_train.shape)\n",
    "print(y_valid.shape)\n",
    "print(y_test.shape)\n"
   ]
  },
  {
   "cell_type": "code",
   "execution_count": 74,
   "id": "6f1af7da",
   "metadata": {},
   "outputs": [
    {
     "name": "stdout",
     "output_type": "stream",
     "text": [
      "Epoch 1/15\n",
      "407/407 [==============================] - 33s 77ms/step - loss: 0.7166 - accuracy: 0.6930 - val_loss: 0.3743 - val_accuracy: 0.8700\n",
      "Epoch 2/15\n",
      "407/407 [==============================] - 34s 84ms/step - loss: 0.3627 - accuracy: 0.8718 - val_loss: 0.2503 - val_accuracy: 0.9280\n",
      "Epoch 3/15\n",
      "407/407 [==============================] - 38s 95ms/step - loss: 0.2595 - accuracy: 0.9102 - val_loss: 0.1954 - val_accuracy: 0.9365\n",
      "Epoch 4/15\n",
      "407/407 [==============================] - 50s 123ms/step - loss: 0.1941 - accuracy: 0.9334 - val_loss: 0.1642 - val_accuracy: 0.9470\n",
      "Epoch 5/15\n",
      "407/407 [==============================] - 51s 126ms/step - loss: 0.1563 - accuracy: 0.9473 - val_loss: 0.1328 - val_accuracy: 0.9610\n",
      "Epoch 6/15\n",
      "407/407 [==============================] - 41s 100ms/step - loss: 0.1368 - accuracy: 0.9533 - val_loss: 0.1562 - val_accuracy: 0.9505\n",
      "Epoch 7/15\n",
      "407/407 [==============================] - 66s 163ms/step - loss: 0.1187 - accuracy: 0.9594 - val_loss: 0.1230 - val_accuracy: 0.9635\n",
      "Epoch 8/15\n",
      "407/407 [==============================] - 61s 149ms/step - loss: 0.1004 - accuracy: 0.9652 - val_loss: 0.0943 - val_accuracy: 0.9670\n",
      "Epoch 9/15\n",
      "407/407 [==============================] - 55s 135ms/step - loss: 0.0881 - accuracy: 0.9697 - val_loss: 0.1251 - val_accuracy: 0.9635\n",
      "Epoch 10/15\n",
      "407/407 [==============================] - 58s 143ms/step - loss: 0.0780 - accuracy: 0.9729 - val_loss: 0.0809 - val_accuracy: 0.9735\n",
      "Epoch 11/15\n",
      "407/407 [==============================] - 45s 110ms/step - loss: 0.0797 - accuracy: 0.9724 - val_loss: 0.0774 - val_accuracy: 0.9765\n",
      "Epoch 12/15\n",
      "407/407 [==============================] - 56s 137ms/step - loss: 0.0651 - accuracy: 0.9770 - val_loss: 0.0825 - val_accuracy: 0.9750\n",
      "Epoch 13/15\n",
      "407/407 [==============================] - 43s 105ms/step - loss: 0.0591 - accuracy: 0.9790 - val_loss: 0.0717 - val_accuracy: 0.9770\n",
      "Epoch 14/15\n",
      "407/407 [==============================] - 52s 127ms/step - loss: 0.0581 - accuracy: 0.9791 - val_loss: 0.0769 - val_accuracy: 0.9785\n",
      "Epoch 15/15\n",
      "407/407 [==============================] - 48s 118ms/step - loss: 0.0590 - accuracy: 0.9786 - val_loss: 0.0678 - val_accuracy: 0.9805\n"
     ]
    }
   ],
   "source": [
    "# 파라미터는 자유롭게 조절\n",
    "hist = model.fit(x_train, y_train, epochs = 15, batch_size = 64, validation_data=(x_valid,y_valid),  callbacks=[early_stopping])"
   ]
  },
  {
   "cell_type": "code",
   "execution_count": 75,
   "id": "cac2e931",
   "metadata": {},
   "outputs": [
    {
     "name": "stdout",
     "output_type": "stream",
     "text": [
      "41/41 [==============================] - 1s 18ms/step - loss: 0.0606 - accuracy: 0.9803\n",
      "Test set Loss and Accuracy\n",
      "[0.0606328584253788, 0.9803240895271301]\n"
     ]
    }
   ],
   "source": [
    "loss_and_acc = model.evaluate(x_test, y_test, batch_size=64)\n",
    "print(\"Test set Loss and Accuracy\")\n",
    "print(loss_and_acc)"
   ]
  },
  {
   "cell_type": "code",
   "execution_count": 84,
   "id": "f6f54ae7",
   "metadata": {},
   "outputs": [
    {
     "name": "stdout",
     "output_type": "stream",
     "text": [
      "1/1 [==============================] - 0s 17ms/step\n",
      "Predictions:  [[1.5146944e-05 9.4922906e-01 5.0712533e-02 4.3174416e-05]]\n"
     ]
    },
    {
     "data": {
      "image/png": "[encoded data removed]",
      "text/plain": [
       "<Figure size 640x480 with 1 Axes>"
      ]
     },
     "metadata": {},
     "output_type": "display_data"
    }
   ],
   "source": [
    "# 원하는 이미지로 테스트\n",
    "image = cv2.imread('data/mask6.jpg')\n",
    "image = cv2.resize(image, (96,96))\n",
    "image = np.array(image)\n",
    "\n",
    "image_hsv = cv2.cvtColor(image, cv2.COLOR_BGR2HSV) # BGR에서 HSV로 변환\n",
    "lower1 = np.array([0, 5, 30])\n",
    "upper1 = np.array([20, 150, 255])\n",
    "lower2 = np.array([160, 5, 30])\n",
    "upper2 = np.array([180, 150, 255])\n",
    "mask1 = cv2.inRange(image_hsv, lower1, upper1)\n",
    "mask2 = cv2.inRange(image_hsv, lower2, upper2)\n",
    "mask = mask1 + mask2\n",
    "image_bgr_masked = cv2.bitwise_and(image, image, mask=mask) # 이미지에 마스크를 적용\n",
    "image = cv2.cvtColor(image_bgr_masked, cv2.COLOR_BGR2RGB)\n",
    "plt.imshow(image)\n",
    "\n",
    "image = image / 255.0  # 정규화 (예: 0-1 범위로 조정)\n",
    "image = np.expand_dims(image, axis=0)  # 배치 차원 추가\n",
    "#print(mask.shape)\n",
    "\n",
    "prediction = model.predict(image)\n",
    "print(\"Predictions: \", prediction)"
   ]
  },
  {
   "cell_type": "code",
   "execution_count": 77,
   "id": "90dd47cc",
   "metadata": {},
   "outputs": [
    {
     "name": "stderr",
     "output_type": "stream",
     "text": [
      "C:\\Users\\user\\anaconda3\\lib\\site-packages\\keras\\src\\engine\\training.py:3103: UserWarning: You are saving your model as an HDF5 file via `model.save()`. This file format is considered legacy. We recommend using instead the native Keras format, e.g. `model.save('my_model.keras')`.\n",
      "  saving_api.save_model(\n"
     ]
    }
   ],
   "source": [
    "from tensorflow.keras.models import load_model\n",
    "model.save('rock_RGB_3.h5')"
   ]
  },
  {
   "cell_type": "code",
   "execution_count": 78,
   "id": "a42834de",
   "metadata": {},
   "outputs": [
    {
     "name": "stdout",
     "output_type": "stream",
     "text": [
      "INFO:tensorflow:Assets written to: C:\\Users\\user\\AppData\\Local\\Temp\\tmp21scb8a2\\assets\n"
     ]
    },
    {
     "name": "stderr",
     "output_type": "stream",
     "text": [
      "INFO:tensorflow:Assets written to: C:\\Users\\user\\AppData\\Local\\Temp\\tmp21scb8a2\\assets\n",
      "C:\\Users\\user\\anaconda3\\lib\\site-packages\\tensorflow\\lite\\python\\convert.py:953: UserWarning: Statistics for quantized inputs were expected, but not specified; continuing anyway.\n",
      "  warnings.warn(\n"
     ]
    }
   ],
   "source": [
    "def representative_dataset():\n",
    "    for _ in range(100):\n",
    "      data = np.random.rand(1, 96, 96, 3)\n",
    "      yield [data.astype(np.float32)]\n",
    "\n",
    "converter = tf.lite.TFLiteConverter.from_keras_model(model)\n",
    "converter.optimizations = [tf.lite.Optimize.DEFAULT]\n",
    "converter.representative_dataset = representative_dataset\n",
    "converter.target_spec.supported_ops = [tf.lite.OpsSet.TFLITE_BUILTINS_INT8]\n",
    "converter.inference_input_type = tf.int8  # or tf.uint8\n",
    "converter.inference_output_type = tf.int8  # or tf.uint8\n",
    "tflite_quant_model = converter.convert()\n",
    "with open('rock_3_int8.tflite','wb') as f:\n",
    "    f.write(tflite_quant_model)"
   ]
  },
  {
   "cell_type": "code",
   "execution_count": 79,
   "id": "81cc10f9",
   "metadata": {},
   "outputs": [
    {
     "name": "stdout",
     "output_type": "stream",
     "text": [
      "Input details: [{'name': 'serving_default_conv2d_15_input:0', 'index': 0, 'shape': array([ 1, 96, 96,  3]), 'shape_signature': array([-1, 96, 96,  3]), 'dtype': <class 'numpy.int8'>, 'quantization': (0.0039215669967234135, -128), 'quantization_parameters': {'scales': array([0.00392157], dtype=float32), 'zero_points': array([-128]), 'quantized_dimension': 0}, 'sparsity_parameters': {}}]\n",
      "Output details: [{'name': 'StatefulPartitionedCall:0', 'index': 29, 'shape': array([1, 4]), 'shape_signature': array([-1,  4]), 'dtype': <class 'numpy.int8'>, 'quantization': (0.00390625, -128), 'quantization_parameters': {'scales': array([0.00390625], dtype=float32), 'zero_points': array([-128]), 'quantized_dimension': 0}, 'sparsity_parameters': {}}]\n"
     ]
    }
   ],
   "source": [
    "# tflite 모델 테스트\n",
    "\n",
    "interpreter = tf.lite.Interpreter(model_path=\"rock_3_int8.tflite\")\n",
    "interpreter.allocate_tensors()\n",
    "\n",
    "# Print information about the model\n",
    "input_details = interpreter.get_input_details()\n",
    "output_details = interpreter.get_output_details()\n",
    "print(\"Input details:\", input_details)\n",
    "print(\"Output details:\", output_details)"
   ]
  },
  {
   "cell_type": "code",
   "execution_count": 94,
   "id": "6eac3846",
   "metadata": {},
   "outputs": [
    {
     "name": "stdout",
     "output_type": "stream",
     "text": [
      "(1, 96, 96, 3)\n",
      "[[ -56   52 -126 -127]]\n"
     ]
    },
    {
     "data": {
      "image/png": "[encoded data removed]",
      "text/plain": [
       "<Figure size 640x480 with 1 Axes>"
      ]
     },
     "metadata": {},
     "output_type": "display_data"
    }
   ],
   "source": [
    "# 모델의 입력 크기 가져오기\n",
    "input_shape = input_details[0]['shape'][1:3]\n",
    "\n",
    "# 테스트할 이미지 로드 및 전처리\n",
    "image_path = \"data/hand10.jpg\"\n",
    "image = cv2.imread(image_path)\n",
    "image = cv2.resize(image, tuple(input_shape))\n",
    "\n",
    "image_hsv = cv2.cvtColor(image, cv2.COLOR_BGR2HSV) # BGR에서 HSV로 변환\n",
    "lower1 = np.array([0, 5, 30])\n",
    "upper1 = np.array([20, 150, 255])\n",
    "lower2 = np.array([160, 5, 30])\n",
    "upper2 = np.array([180, 150, 255])\n",
    "mask1 = cv2.inRange(image_hsv, lower1, upper1)\n",
    "mask2 = cv2.inRange(image_hsv, lower2, upper2)\n",
    "mask = mask1 + mask2\n",
    "image_bgr_masked = cv2.bitwise_and(image, image, mask=mask) # 이미지에 마스크를 적용\n",
    "image = cv2.cvtColor(image_bgr_masked, cv2.COLOR_BGR2RGB)\n",
    "plt.imshow(image)\n",
    "image = np.expand_dims(image, axis=0)\n",
    "image = image - 128\n",
    "image = image.astype(np.int8)\n",
    "print(image.shape)\n",
    "\n",
    "\n",
    "# 모델에 입력 데이터 제공\n",
    "interpreter.set_tensor(input_details[0]['index'], image)\n",
    "\n",
    "# 추론 실행\n",
    "interpreter.invoke()\n",
    "\n",
    "scale, zero_point = output_details[0][\"quantization\"]\n",
    "\n",
    "# 모델의 출력 받기\n",
    "output_data = interpreter.get_tensor(output_details[0]['index'])\n",
    "#output_data = ((output_data - zero_point) * scale).astype(np.float32)\n",
    "print(output_data)"
   ]
  },
  {
   "cell_type": "code",
   "execution_count": null,
   "id": "60f4c40e",
   "metadata": {},
   "outputs": [],
   "source": []
  }
 ],
 "metadata": {
  "kernelspec": {
   "display_name": "Python 3 (ipykernel)",
   "language": "python",
   "name": "python3"
  },
  "language_info": {
   "codemirror_mode": {
    "name": "ipython",
    "version": 3
   },
   "file_extension": ".py",
   "mimetype": "text/x-python",
   "name": "python",
   "nbconvert_exporter": "python",
   "pygments_lexer": "ipython3",
   "version": "3.10.9"
  }
 },
 "nbformat": 4,
 "nbformat_minor": 5
}
